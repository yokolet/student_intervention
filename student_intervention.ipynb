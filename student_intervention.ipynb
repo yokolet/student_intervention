{
 "cells": [
  {
   "cell_type": "markdown",
   "metadata": {},
   "source": [
    "# Machine Learning Engineer Nanodegree\n",
    "## Supervised Learning\n",
    "## Project 2: Building a Student Intervention System"
   ]
  },
  {
   "cell_type": "markdown",
   "metadata": {},
   "source": [
    "Welcome to the second project of the Machine Learning Engineer Nanodegree! In this notebook, some template code has already been provided for you, and it will be your job to implement the additional functionality necessary to successfully complete this project. Sections that begin with **'Implementation'** in the header indicate that the following block of code will require additional functionality which you must provide. Instructions will be provided for each section and the specifics of the implementation are marked in the code block with a `'TODO'` statement. Please be sure to read the instructions carefully!\n",
    "\n",
    "In addition to implementing code, there will be questions that you must answer which relate to the project and your implementation. Each section where you will answer a question is preceded by a **'Question X'** header. Carefully read each question and provide thorough answers in the following text boxes that begin with **'Answer:'**. Your project submission will be evaluated based on your answers to each of the questions and the implementation you provide.  \n",
    "\n",
    ">**Note:** Code and Markdown cells can be executed using the **Shift + Enter** keyboard shortcut. In addition, Markdown cells can be edited by typically double-clicking the cell to enter edit mode."
   ]
  },
  {
   "cell_type": "markdown",
   "metadata": {},
   "source": [
    "### Question 1 - Classification vs. Regression\n",
    "*Your goal for this project is to identify students who might need early intervention before they fail to graduate. Which type of supervised learning problem is this, classification or regression? Why?*"
   ]
  },
  {
   "cell_type": "markdown",
   "metadata": {},
   "source": [
    "**Answer: ** Classification. Teachers want to identify what groups of students need early intervention beofore they fail. An outcome should be at least two labels, good to go or need help. The labels may be better to have more than two. Among need help groups, some may need a little help, while others may need a great amount of help. The labels should be a good source for teachers to decide what actions they should take on what type of students."
   ]
  },
  {
   "cell_type": "markdown",
   "metadata": {},
   "source": [
    "## Exploring the Data\n",
    "Run the code cell below to load necessary Python libraries and load the student data. Note that the last column from this dataset, `'passed'`, will be our target label (whether the student graduated or didn't graduate). All other columns are features about each student."
   ]
  },
  {
   "cell_type": "code",
   "execution_count": 2,
   "metadata": {
    "collapsed": false
   },
   "outputs": [
    {
     "name": "stdout",
     "output_type": "stream",
     "text": [
      "Student data read successfully!\n"
     ]
    }
   ],
   "source": [
    "# Import libraries\n",
    "import numpy as np\n",
    "import pandas as pd\n",
    "from time import time\n",
    "from sklearn.metrics import f1_score\n",
    "\n",
    "# Read student data\n",
    "student_data = pd.read_csv(\"student-data.csv\")\n",
    "print \"Student data read successfully!\""
   ]
  },
  {
   "cell_type": "markdown",
   "metadata": {},
   "source": [
    "### Implementation: Data Exploration\n",
    "Let's begin by investigating the dataset to determine how many students we have information on, and learn about the graduation rate among these students. In the code cell below, you will need to compute the following:\n",
    "- The total number of students, `n_students`.\n",
    "- The total number of features for each student, `n_features`.\n",
    "- The number of those students who passed, `n_passed`.\n",
    "- The number of those students who failed, `n_failed`.\n",
    "- The graduation rate of the class, `grad_rate`, in percent (%).\n"
   ]
  },
  {
   "cell_type": "code",
   "execution_count": 3,
   "metadata": {
    "collapsed": false
   },
   "outputs": [
    {
     "name": "stdout",
     "output_type": "stream",
     "text": [
      "Total number of students: 395\n",
      "Number of features: 30\n",
      "Number of students who passed: 265\n",
      "Number of students who failed: 130\n",
      "Graduation rate of the class: 67.09%\n"
     ]
    }
   ],
   "source": [
    "# TODO: Calculate number of students\n",
    "n_students = student_data.shape[0]\n",
    "\n",
    "# TODO: Calculate number of features\n",
    "n_features = student_data.shape[1] - 1\n",
    "\n",
    "# TODO: Calculate passing students\n",
    "n_passed = student_data['passed'].value_counts()['yes']\n",
    "\n",
    "# TODO: Calculate failing students\n",
    "n_failed = student_data['passed'].value_counts()['no']\n",
    "\n",
    "# TODO: Calculate graduation rate\n",
    "grad_rate = n_passed.astype(float) / n_students * 100\n",
    "\n",
    "# Print the results\n",
    "print \"Total number of students: {}\".format(n_students)\n",
    "print \"Number of features: {}\".format(n_features)\n",
    "print \"Number of students who passed: {}\".format(n_passed)\n",
    "print \"Number of students who failed: {}\".format(n_failed)\n",
    "print \"Graduation rate of the class: {:.2f}%\".format(grad_rate)"
   ]
  },
  {
   "cell_type": "markdown",
   "metadata": {},
   "source": [
    "## Preparing the Data\n",
    "In this section, we will prepare the data for modeling, training and testing.\n",
    "\n",
    "### Identify feature and target columns\n",
    "It is often the case that the data you obtain contains non-numeric features. This can be a problem, as most machine learning algorithms expect numeric data to perform computations with.\n",
    "\n",
    "Run the code cell below to separate the student data into feature and target columns to see if any features are non-numeric."
   ]
  },
  {
   "cell_type": "code",
   "execution_count": 3,
   "metadata": {
    "collapsed": false
   },
   "outputs": [
    {
     "name": "stdout",
     "output_type": "stream",
     "text": [
      "Feature columns:\n",
      "['school', 'sex', 'age', 'address', 'famsize', 'Pstatus', 'Medu', 'Fedu', 'Mjob', 'Fjob', 'reason', 'guardian', 'traveltime', 'studytime', 'failures', 'schoolsup', 'famsup', 'paid', 'activities', 'nursery', 'higher', 'internet', 'romantic', 'famrel', 'freetime', 'goout', 'Dalc', 'Walc', 'health', 'absences']\n",
      "\n",
      "Target column: passed\n",
      "\n",
      "Feature values:\n",
      "  school sex  age address famsize Pstatus  Medu  Fedu     Mjob      Fjob  \\\n",
      "0     GP   F   18       U     GT3       A     4     4  at_home   teacher   \n",
      "1     GP   F   17       U     GT3       T     1     1  at_home     other   \n",
      "2     GP   F   15       U     LE3       T     1     1  at_home     other   \n",
      "3     GP   F   15       U     GT3       T     4     2   health  services   \n",
      "4     GP   F   16       U     GT3       T     3     3    other     other   \n",
      "\n",
      "    ...    higher internet  romantic  famrel  freetime goout Dalc Walc health  \\\n",
      "0   ...       yes       no        no       4         3     4    1    1      3   \n",
      "1   ...       yes      yes        no       5         3     3    1    1      3   \n",
      "2   ...       yes      yes        no       4         3     2    2    3      3   \n",
      "3   ...       yes      yes       yes       3         2     2    1    1      5   \n",
      "4   ...       yes       no        no       4         3     2    1    2      5   \n",
      "\n",
      "  absences  \n",
      "0        6  \n",
      "1        4  \n",
      "2       10  \n",
      "3        2  \n",
      "4        4  \n",
      "\n",
      "[5 rows x 30 columns]\n"
     ]
    }
   ],
   "source": [
    "# Extract feature columns\n",
    "feature_cols = list(student_data.columns[:-1])\n",
    "\n",
    "# Extract target column 'passed'\n",
    "target_col = student_data.columns[-1] \n",
    "\n",
    "# Show the list of columns\n",
    "print \"Feature columns:\\n{}\".format(feature_cols)\n",
    "print \"\\nTarget column: {}\".format(target_col)\n",
    "\n",
    "# Separate the data into feature data and target data (X_all and y_all, respectively)\n",
    "X_all = student_data[feature_cols]\n",
    "y_all = student_data[target_col]\n",
    "\n",
    "# Show the feature information by printing the first five rows\n",
    "print \"\\nFeature values:\"\n",
    "print X_all.head()"
   ]
  },
  {
   "cell_type": "markdown",
   "metadata": {},
   "source": [
    "### Preprocess Feature Columns\n",
    "\n",
    "As you can see, there are several non-numeric columns that need to be converted! Many of them are simply `yes`/`no`, e.g. `internet`. These can be reasonably converted into `1`/`0` (binary) values.\n",
    "\n",
    "Other columns, like `Mjob` and `Fjob`, have more than two values, and are known as _categorical variables_. The recommended way to handle such a column is to create as many columns as possible values (e.g. `Fjob_teacher`, `Fjob_other`, `Fjob_services`, etc.), and assign a `1` to one of them and `0` to all others.\n",
    "\n",
    "These generated columns are sometimes called _dummy variables_, and we will use the [`pandas.get_dummies()`](http://pandas.pydata.org/pandas-docs/stable/generated/pandas.get_dummies.html?highlight=get_dummies#pandas.get_dummies) function to perform this transformation. Run the code cell below to perform the preprocessing routine discussed in this section."
   ]
  },
  {
   "cell_type": "code",
   "execution_count": 4,
   "metadata": {
    "collapsed": false
   },
   "outputs": [
    {
     "name": "stdout",
     "output_type": "stream",
     "text": [
      "Processed feature columns (48 total features):\n",
      "['school_GP', 'school_MS', 'sex_F', 'sex_M', 'age', 'address_R', 'address_U', 'famsize_GT3', 'famsize_LE3', 'Pstatus_A', 'Pstatus_T', 'Medu', 'Fedu', 'Mjob_at_home', 'Mjob_health', 'Mjob_other', 'Mjob_services', 'Mjob_teacher', 'Fjob_at_home', 'Fjob_health', 'Fjob_other', 'Fjob_services', 'Fjob_teacher', 'reason_course', 'reason_home', 'reason_other', 'reason_reputation', 'guardian_father', 'guardian_mother', 'guardian_other', 'traveltime', 'studytime', 'failures', 'schoolsup', 'famsup', 'paid', 'activities', 'nursery', 'higher', 'internet', 'romantic', 'famrel', 'freetime', 'goout', 'Dalc', 'Walc', 'health', 'absences']\n"
     ]
    }
   ],
   "source": [
    "def preprocess_features(X):\n",
    "    ''' Preprocesses the student data and converts non-numeric binary variables into\n",
    "        binary (0/1) variables. Converts categorical variables into dummy variables. '''\n",
    "    \n",
    "    # Initialize new output DataFrame\n",
    "    output = pd.DataFrame(index = X.index)\n",
    "\n",
    "    # Investigate each feature column for the data\n",
    "    for col, col_data in X.iteritems():\n",
    "        \n",
    "        # If data type is non-numeric, replace all yes/no values with 1/0\n",
    "        if col_data.dtype == object:\n",
    "            col_data = col_data.replace(['yes', 'no'], [1, 0])\n",
    "\n",
    "        # If data type is categorical, convert to dummy variables\n",
    "        if col_data.dtype == object:\n",
    "            # Example: 'school' => 'school_GP' and 'school_MS'\n",
    "            col_data = pd.get_dummies(col_data, prefix = col)  \n",
    "        \n",
    "        # Collect the revised columns\n",
    "        output = output.join(col_data)\n",
    "    \n",
    "    return output\n",
    "\n",
    "X_all = preprocess_features(X_all)\n",
    "print \"Processed feature columns ({} total features):\\n{}\".format(len(X_all.columns), list(X_all.columns))"
   ]
  },
  {
   "cell_type": "markdown",
   "metadata": {},
   "source": [
    "### Implementation: Training and Testing Data Split\n",
    "So far, we have converted all _categorical_ features into numeric values. For the next step, we split the data (both features and corresponding labels) into training and test sets. In the following code cell below, you will need to implement the following:\n",
    "- Randomly shuffle and split the data (`X_all`, `y_all`) into training and testing subsets.\n",
    "  - Use 300 training points (approximately 75%) and 95 testing points (approximately 25%).\n",
    "  - Set a `random_state` for the function(s) you use, if provided.\n",
    "  - Store the results in `X_train`, `X_test`, `y_train`, and `y_test`."
   ]
  },
  {
   "cell_type": "code",
   "execution_count": 5,
   "metadata": {
    "collapsed": false
   },
   "outputs": [
    {
     "name": "stdout",
     "output_type": "stream",
     "text": [
      "Training set has 300 samples.\n",
      "Testing set has 95 samples.\n"
     ]
    }
   ],
   "source": [
    "# TODO: Import any additional functionality you may need here\n",
    "from sklearn.cross_validation import train_test_split\n",
    "\n",
    "# TODO: Set the number of training points\n",
    "num_train = 300\n",
    "\n",
    "# Set the number of testing points\n",
    "num_test = X_all.shape[0] - num_train\n",
    "\n",
    "# TODO: Shuffle and split the dataset into the number of training and testing points above\n",
    "X_train = None\n",
    "X_test = None\n",
    "y_train = None\n",
    "y_test = None\n",
    "X_train, X_test, y_train, y_test = train_test_split(X_all, y_all, train_size=300, random_state=42)\n",
    "\n",
    "# Show the results of the split\n",
    "print \"Training set has {} samples.\".format(X_train.shape[0])\n",
    "print \"Testing set has {} samples.\".format(X_test.shape[0])"
   ]
  },
  {
   "cell_type": "markdown",
   "metadata": {},
   "source": [
    "## Training and Evaluating Models\n",
    "In this section, you will choose 3 supervised learning models that are appropriate for this problem and available in `scikit-learn`. You will first discuss the reasoning behind choosing these three models by considering what you know about the data and each model's strengths and weaknesses. You will then fit the model to varying sizes of training data (100 data points, 200 data points, and 300 data points) and measure the F<sub>1</sub> score. You will need to produce three tables (one for each model) that shows the training set size, training time, prediction time, F<sub>1</sub> score on the training set, and F<sub>1</sub> score on the testing set.\n",
    "\n",
    "**The following supervised learning models are currently available in** [`scikit-learn`](http://scikit-learn.org/stable/supervised_learning.html) **that you may choose from:**\n",
    "- Gaussian Naive Bayes (GaussianNB)\n",
    "- Decision Trees\n",
    "- Ensemble Methods (Bagging, AdaBoost, Random Forest, Gradient Boosting)\n",
    "- K-Nearest Neighbors (KNeighbors)\n",
    "- Stochastic Gradient Descent (SGDC)\n",
    "- Support Vector Machines (SVM)\n",
    "- Logistic Regression"
   ]
  },
  {
   "cell_type": "markdown",
   "metadata": {},
   "source": [
    "### Question 2 - Model Application\n",
    "*List three supervised learning models that are appropriate for this problem. For each model chosen*\n",
    "- Describe one real-world application in industry where the model can be applied. *(You may need to do a small bit of research for this — give references!)* \n",
    "- What are the strengths of the model; when does it perform well? \n",
    "- What are the weaknesses of the model; when does it perform poorly?\n",
    "- What makes this model a good candidate for the problem, given what you know about the data?"
   ]
  },
  {
   "cell_type": "markdown",
   "metadata": {},
   "source": [
    "**Answer: **\n",
    "##### 1. K-Nearest Neighbors (KNeighbors)\n",
    "- Real-world application<br/>\n",
    "    Reference: [Introduction to the K-Nearest Neighbor (KNN) algorithm](http://www.datasciencecentral.com/profiles/blogs/introduction-to-the-k-nearest-neighbor-knn-algorithm)<br/>\n",
    "    In the article, k-NN was applied to classify new automobile prototypes. A manufacturer wants to know what exisiting vehicles are close to currenlty develping new prototypes mostly for a marketing purpose. After finding nearest neighbors (similar type of vehicles), the manufacturer can learn what feature of the prototype is better than similar ones, which will be a good source of marketing. Like this example, k-NN can be applied to find the best group which the new data should belong to.\n",
    "\n",
    "\n",
    "- Strengths<br/>\n",
    "    Since k-NN is an instance based learning, there's no cost of training. The data will be categoraized instantly. Its simple algorithm is also a strength. Simply calculating distances between instacnes is all. There's no need to form decision boundary. The distance to the instacnes gives the result.\n",
    "\n",
    "\n",
    "- Weaknesses<br/>\n",
    "    k-NN must keep all raw data on memory to calculate the distances. Once the data size gets huge, computational time grows long. The curse of dimensionality is another problem to make computational time worse. Even though the data size is not huge, as a number of features goes bigger, it needs to calculate many distances. Also, as the number of features grows, the number of irrelevant features may grow. To use k-NN, it would be good to eliminate such irrelevant features.\n",
    "\n",
    "\n",
    "- Why this model<br/>\n",
    "    Teachers want to identify what groups of students tend to fail. From given dataset, it's possible to find that a new student is the closest to what groups based on similarity. If the similar students tend to fail, teachers can conclude the new student has a great possiblity to fail. Our test data doesn't have huge samples and features. k-NN won't cause any computational problem.\n",
    "    \n",
    "\n",
    "##### 2. Support Vector Machine (SVM)\n",
    "- Real-world application<br/>\n",
    "    Reference: [Application of support vector machine modeling for prediction of common diseases: the case of diabetes and pre-diabetes](http://bmcmedinformdecismak.biomedcentral.com/articles/10.1186/1472-6947-10-16)<br/>\n",
    "    This article discusses how SVM was applied to predict a person would have diabetes/pre-diabetes. People's medical records are parametrized and used as data set. SVM is a classifier to make margin wide as much as possible. The result, whether the person will have diabetes or not, shows SVM predicts well without any prior knowlege of data distribution. The healthcare is one of many other ares SVM can be applied. It is often said SVM is good in image processing area. (https://en.wikipedia.org/wiki/Support_vector_machine)\n",
    "\n",
    "\n",
    "- Strengths<br/>\n",
    "    The idea of SVM is to maximize the margin between decision boundary and closest data. For computation, only data close to the boundary (support vectors) are influential. Because of this, outliers doesn't bother SVM. During the margin maximization, SVM uses a regularizarion parameter. This has an effect to generalize the result and helps avoiding overfitting. Another strength is that the decision boundary on hyperplane can be linear or non-linear by SVM's kernel trick. Since the boundary will be formed on hyperplane, even though number of features gets big, SVM works effectively.\n",
    "\n",
    "\n",
    "- Weaknesses<br/>\n",
    "    When the linear boundry doesn't work, figuring out what kernel fits best would be a hard problem. This requires domain knowledge. In addition to choosing the best kernal, choosing the good parameters is another problem. Depending the parameters given, the result may overfit. Other than choosing good ones, as number of features grows in nonlinear kernel, computation will go expensive.\n",
    "\n",
    "\n",
    "- Why this model<br/>\n",
    "    The dataset may not be linealy separable into two categories, whether the groups of students tend to fail or not. In such a case, SVM will create a complex but effective decition boundary. The prediction accurary is expected to be high. The given dataset is not big, so the time for training won't be long.\n",
    "\n",
    "\n",
    "##### 3. Logistic Regression\n",
    "- Real-world application<br/>\n",
    "    Reference: [Logistic Regression – Banking Case Study Example (Part 3)](http://ucanalytics.com/blogs/case-study-example-banking-logistic-regression-3/)<br/>\n",
    "    The article is about banking service. The Logstic Regression was applied to predict a loan would be good or bad based on the age group. The result shows this binary classifier worked well for this kind of lineary separable dataset. As in the Wikipedia Logistic Regression webiste (https://en.wikipedia.org/wiki/Logistic_regression), this classifier is often used in banking, text processing and medial areas to categorize data.\n",
    "\n",
    "\n",
    "- Strengths<br/>\n",
    "    Logistic Regression is a simple algorithm and works well when given dataset can be linearly separable (only one decision boundary exists). The training is fast because of its simple algorithm. Like SVM, it also uses a regularization parameter which keeps the model from overfitting. Logistic Regression training is to find better parameters to form a better decision boundary. The parameters are independent from other features, so the caclulation can be done in parallel for each feature. This means the model doesn't have a problem of curse of diminsionality in terms of computational cost.\n",
    "\n",
    "\n",
    "- Weaknesses<br/>\n",
    "    Logistic Regression assumus only one decision boundary exists. The dataset should be linearly separable. If the model is complex and needs more than one decision boundaries, other classifier such as SVM would be the choice. Unlike SVM, Logistic Regression uses all training data equally. When irrelevant features come in, those will give unwated effects on the parameter calculation. In such a case, the prediction will get worse. Not just irrelevant features, outliers are the problam of Logis tic Regression since it tries to maximize likelihood using all training data.\n",
    "\n",
    "\n",
    "- Why this model<br/>\n",
    "    The given problem is a binary classification using many features. Teachers want to know what students will likely fail. Logistic Regsssion is the one always starting from for this kind of binary classification. It may give a good result thinking of the nature of the dataset."
   ]
  },
  {
   "cell_type": "markdown",
   "metadata": {},
   "source": [
    "### Setup\n",
    "Run the code cell below to initialize three helper functions which you can use for training and testing the three supervised learning models you've chosen above. The functions are as follows:\n",
    "- `train_classifier` - takes as input a classifier and training data and fits the classifier to the data.\n",
    "- `predict_labels` - takes as input a fit classifier, features, and a target labeling and makes predictions using the F<sub>1</sub> score.\n",
    "- `train_predict` - takes as input a classifier, and the training and testing data, and performs `train_clasifier` and `predict_labels`.\n",
    " - This function will report the F<sub>1</sub> score for both the training and testing data separately."
   ]
  },
  {
   "cell_type": "code",
   "execution_count": 6,
   "metadata": {
    "collapsed": false
   },
   "outputs": [],
   "source": [
    "def train_classifier(clf, X_train, y_train):\n",
    "    ''' Fits a classifier to the training data. '''\n",
    "    \n",
    "    # Start the clock, train the classifier, then stop the clock\n",
    "    start = time()\n",
    "    clf.fit(X_train, y_train)\n",
    "    end = time()\n",
    "    \n",
    "    # Print the results\n",
    "    print \"Trained model in {:.4f} seconds\".format(end - start)\n",
    "\n",
    "    \n",
    "def predict_labels(clf, features, target):\n",
    "    ''' Makes predictions using a fit classifier based on F1 score. '''\n",
    "    \n",
    "    # Start the clock, make predictions, then stop the clock\n",
    "    start = time()\n",
    "    y_pred = clf.predict(features)\n",
    "    end = time()\n",
    "    \n",
    "    # Print and return results\n",
    "    print \"Made predictions in {:.4f} seconds.\".format(end - start)\n",
    "    return f1_score(target.values, y_pred, pos_label='yes')\n",
    "\n",
    "\n",
    "def train_predict(clf, X_train, y_train, X_test, y_test):\n",
    "    ''' Train and predict using a classifer based on F1 score. '''\n",
    "    \n",
    "    # Indicate the classifier and the training set size\n",
    "    print \"Training a {} using a training set size of {}. . .\".format(clf.__class__.__name__, len(X_train))\n",
    "    \n",
    "    # Train the classifier\n",
    "    train_classifier(clf, X_train, y_train)\n",
    "    \n",
    "    # Print the results of prediction for both training and testing\n",
    "    print \"F1 score for training set: {:.4f}.\".format(predict_labels(clf, X_train, y_train))\n",
    "    print \"F1 score for test set: {:.4f}.\".format(predict_labels(clf, X_test, y_test))"
   ]
  },
  {
   "cell_type": "markdown",
   "metadata": {},
   "source": [
    "### Implementation: Model Performance Metrics\n",
    "With the predefined functions above, you will now import the three supervised learning models of your choice and run the `train_predict` function for each one. Remember that you will need to train and predict on each classifier for three different training set sizes: 100, 200, and 300. Hence, you should expect to have 9 different outputs below — 3 for each model using the varying training set sizes. In the following code cell, you will need to implement the following:\n",
    "- Import the three supervised learning models you've discussed in the previous section.\n",
    "- Initialize the three models and store them in `clf_A`, `clf_B`, and `clf_C`.\n",
    " - Use a `random_state` for each model you use, if provided.\n",
    " - **Note:** Use the default settings for each model — you will tune one specific model in a later section.\n",
    "- Create the different training set sizes to be used to train each model.\n",
    " - *Do not reshuffle and resplit the data! The new training points should be drawn from `X_train` and `y_train`.*\n",
    "- Fit each model with each training set size and make predictions on the test set (9 in total).  \n",
    "**Note:** Three tables are provided after the following code cell which can be used to store your results."
   ]
  },
  {
   "cell_type": "code",
   "execution_count": 8,
   "metadata": {
    "collapsed": false
   },
   "outputs": [
    {
     "name": "stdout",
     "output_type": "stream",
     "text": [
      "Training a KNeighborsClassifier using a training set size of 100. . .\n",
      "Trained model in 0.0011 seconds\n",
      "Made predictions in 0.0015 seconds.\n",
      "F1 score for training set: 0.8060.\n",
      "Made predictions in 0.0012 seconds.\n",
      "F1 score for test set: 0.7246.\n",
      "\n",
      "\n",
      "Training a KNeighborsClassifier using a training set size of 200. . .\n",
      "Trained model in 0.0006 seconds\n",
      "Made predictions in 0.0025 seconds.\n",
      "F1 score for training set: 0.8800.\n",
      "Made predictions in 0.0015 seconds.\n",
      "F1 score for test set: 0.7692.\n",
      "\n",
      "\n",
      "Training a KNeighborsClassifier using a training set size of 300. . .\n",
      "Trained model in 0.0009 seconds\n",
      "Made predictions in 0.0064 seconds.\n",
      "F1 score for training set: 0.8809.\n",
      "Made predictions in 0.0026 seconds.\n",
      "F1 score for test set: 0.7801.\n",
      "\n",
      "\n",
      "\n",
      "\n",
      "Training a SVC using a training set size of 100. . .\n",
      "Trained model in 0.0017 seconds\n",
      "Made predictions in 0.0009 seconds.\n",
      "F1 score for training set: 0.8777.\n",
      "Made predictions in 0.0008 seconds.\n",
      "F1 score for test set: 0.7746.\n",
      "\n",
      "\n",
      "Training a SVC using a training set size of 200. . .\n",
      "Trained model in 0.0038 seconds\n",
      "Made predictions in 0.0022 seconds.\n",
      "F1 score for training set: 0.8679.\n",
      "Made predictions in 0.0012 seconds.\n",
      "F1 score for test set: 0.7815.\n",
      "\n",
      "\n",
      "Training a SVC using a training set size of 300. . .\n",
      "Trained model in 0.0070 seconds\n",
      "Made predictions in 0.0047 seconds.\n",
      "F1 score for training set: 0.8761.\n",
      "Made predictions in 0.0016 seconds.\n",
      "F1 score for test set: 0.7838.\n",
      "\n",
      "\n",
      "\n",
      "\n",
      "Training a LogisticRegression using a training set size of 100. . .\n",
      "Trained model in 0.0013 seconds\n",
      "Made predictions in 0.0002 seconds.\n",
      "F1 score for training set: 0.8593.\n",
      "Made predictions in 0.0002 seconds.\n",
      "F1 score for test set: 0.7647.\n",
      "\n",
      "\n",
      "Training a LogisticRegression using a training set size of 200. . .\n",
      "Trained model in 0.0025 seconds\n",
      "Made predictions in 0.0003 seconds.\n",
      "F1 score for training set: 0.8562.\n",
      "Made predictions in 0.0003 seconds.\n",
      "F1 score for test set: 0.7914.\n",
      "\n",
      "\n",
      "Training a LogisticRegression using a training set size of 300. . .\n",
      "Trained model in 0.0031 seconds\n",
      "Made predictions in 0.0003 seconds.\n",
      "F1 score for training set: 0.8468.\n",
      "Made predictions in 0.0002 seconds.\n",
      "F1 score for test set: 0.8060.\n",
      "\n",
      "\n",
      "\n",
      "\n"
     ]
    }
   ],
   "source": [
    "# TODO: Import the three supervised learning models from sklearn\n",
    "# from sklearn import model_A\n",
    "# from sklearn import model_B\n",
    "# from skearln import model_C\n",
    "from sklearn.neighbors import KNeighborsClassifier\n",
    "from sklearn import svm\n",
    "from sklearn import linear_model\n",
    "\n",
    "# TODO: Initialize the three models\n",
    "clf_A = KNeighborsClassifier()\n",
    "clf_B = svm.SVC(random_state=0)\n",
    "clf_C = linear_model.LogisticRegression(random_state=0)\n",
    "\n",
    "# TODO: Set up the training set sizes\n",
    "X_train_100 = None\n",
    "y_train_100 = None\n",
    "\n",
    "X_train_200 = None\n",
    "y_train_200 = None\n",
    "\n",
    "X_train_300 = None\n",
    "y_train_300 = None\n",
    "\n",
    "# TODO: Execute the 'train_predict' function for each classifier and each training set size\n",
    "# train_predict(clf, X_train, y_train, X_test, y_test)\n",
    "for clf in [clf_A, clf_B, clf_C]:\n",
    "    for N in [100, 200, 300]:\n",
    "        train_predict(clf, X_train[:N], y_train[:N], X_test, y_test)\n",
    "        print '\\n'\n",
    "    print '\\n'"
   ]
  },
  {
   "cell_type": "markdown",
   "metadata": {},
   "source": [
    "### Tabular Results\n",
    "Edit the cell below to see how a table can be designed in [Markdown](https://github.com/adam-p/markdown-here/wiki/Markdown-Cheatsheet#tables). You can record your results from above in the tables provided."
   ]
  },
  {
   "cell_type": "markdown",
   "metadata": {},
   "source": [
    "** Classifer 1 - K-Nearest Neighbors (KNeighbors)**  \n",
    "\n",
    "| Training Set Size | Training Time | Prediction Time (test) | F1 Score (train) | F1 Score (test) |\n",
    "| :---------------: | :---------------------: | :--------------------: | :--------------: | :-------------: |\n",
    "| 100               |      0.0011             |    0.0012              |    0.8060        |   0.7246        |\n",
    "| 200               |      0.0006             |    0.0015              |    0.8800        |   0.7692        |\n",
    "| 300               |      0.0009             |    0.0026              |    0.8809        |   0.7801        |\n",
    "\n",
    "** Classifer 2 - SVC**  \n",
    "\n",
    "| Training Set Size | Training Time | Prediction Time (test) | F1 Score (train) | F1 Score (test) |\n",
    "| :---------------: | :---------------------: | :--------------------: | :--------------: | :-------------: |\n",
    "| 100               |    0.0017               |    0.0008              |    0.8777        |    0.7746       |\n",
    "| 200               |    0.0038               |    0.0012              |    0.8679        |    0.7815       |\n",
    "| 300               |    0.0070               |    0.0016              |    0.8761        |    0.7838       |\n",
    "\n",
    "** Classifer 3 - Logistic Regression**  \n",
    "\n",
    "| Training Set Size | Training Time | Prediction Time (test) | F1 Score (train) | F1 Score (test) |\n",
    "| :---------------: | :---------------------: | :--------------------: | :--------------: | :-------------: |\n",
    "| 100               |    0.0013               |     0.0002             |    0.8593        |    0.7647       |\n",
    "| 200               |    0.0025               |     0.0003             |    0.8562        |    0.7914       |\n",
    "| 300               |    0.0031               |     0.0002             |    0.8468        |    0.8060       |"
   ]
  },
  {
   "cell_type": "markdown",
   "metadata": {},
   "source": [
    "## Choosing the Best Model\n",
    "In this final section, you will choose from the three supervised learning models the *best* model to use on the student data. You will then perform a grid search optimization for the model over the entire training set (`X_train` and `y_train`) by tuning at least one parameter to improve upon the untuned model's F<sub>1</sub> score. "
   ]
  },
  {
   "cell_type": "markdown",
   "metadata": {},
   "source": [
    "### Question 3 - Choosing the Best Model\n",
    "*Based on the experiments you performed earlier, in one to two paragraphs, explain to the board of supervisors what single model you chose as the best model. Which model is generally the most appropriate based on the available data, limited resources, cost, and performance?*"
   ]
  },
  {
   "cell_type": "markdown",
   "metadata": {},
   "source": [
    "**Answer: **\n",
    "\n",
    "Look at the results of three different classifiers above. All three used the same training and test data. Each table shows how fast the training and prediction are, and how accurate the resutls are for both taining and test data. F1 Score ranges between 0 and 1.0. The best F1 Score is 1.0. If we add up Training Time and Prediction Time in test, Logistic Regression is the fastest. Logistic Regression has the best F1 Score, 0.8060, in test with 300 training set size. Logistic Regression looks a good choice. However, F1 Score in training goes down as the training size increases. If the model fits well, the accuracy for taining data should get better as the training size increases. Since the result was opposite, Logistic Regression may not be a good model for the data.\n",
    "\n",
    "Let's compare K-Nearest Neighbors (k-NN) and Supprt Vector Machine (SVM). Upto 300 training data size, k-NN runs faster. However, from the nature of the algorithm, k-NN's peformance will certainly get worse. At some point, it will be worse than SVM once data size grows big. The prediction accuracies are similar, but SVM has better values overall. As training data size increases, the F1 Score of test data increases. The F1 Score of training data doesn't have an apparent increasing tendency, but at least, it doesn't decrease.\n",
    "\n",
    "From this observation, SVM would be the best mode we should choose. SVM takes long to train; however, for 300 data, it takes 0.0099 seconds. Even though we need to deal with 100 times bigger data, still the training time would be withn bearable range. SVM's good accuracy will help teachers to correctly identify what students will fail."
   ]
  },
  {
   "cell_type": "markdown",
   "metadata": {},
   "source": [
    "### Question 4 - Model in Layman's Terms\n",
    "*In one to two paragraphs, explain to the board of directors in layman's terms how the final model chosen is supposed to work. Be sure that you are describing the major qualities of the model, such as how the model is trained and how the model makes a prediction. Avoid using advanced mathematical or technical jargon, such as describing equations or discussing the algorithm implementation.*"
   ]
  },
  {
   "cell_type": "markdown",
   "metadata": {},
   "source": [
    "**Answer: **\n",
    "\n",
    "Why Support Vector Machine (SVM) is expected to work well? There are two main reasons this algorithm would predict accurately. One is how a decision boundary is determined. The decision boundary devides training data in to two groups. For the sake of simplicity, let's assume only two features are involved in. This means training data can be plotted on a 2 demensional plane with labels (star or circle) as in the picture below. Also, for the sake of simplicity, let's assume training data can be devided by a straight line. To find the best line to devide training data in two groups, SVM tries to maximize the distances of the closest data points on the both side. The distance is called a margin. The closest data points are called support vectors. SVM's training goes like this: finds the closest pairs of star and circle, calculates the distances of each pair, draws a line that cuts throgh the middle of the each pair. The line should devide star and circle groups well since the line is on the farthest location to both groups. When test data are given, SVM checks the new data is on which side of the line. Lastly, SVM gives a label to each test data. This is a predicition.\n",
    "\n",
    "![Margin of Support Vector Machine](https://www.analyticsvidhya.com/wp-content/uploads/2015/10/SVM_4.png)\n",
    "\n",
    "\n",
    "The second one is how SVM solves a complex problem created by more than two deminsions and many features. In the real world data, a number of features are often more than two. When more than two features are involved in, the line will turn to a hyperplane. This is because features are expressed by multi-dimension data. SVM doesn't have any problem to form the hyperplane from support vectors which are multi-dimension data. In addition, the hyperplane, in another word, a decision boundary, should have a more complex shape rather than flat plane to devide groups. SVM has a nice feature called a kernel trick. Look at the picture blow. The picture shows an ellipse shaped decision boundary. In this case, a line never works as a decision boundary. The ellipse has a smooth line/surfece; however, a bumpy surface may work for some dataset. SVM still works well even in such a case becuase of the kernel trick. The shape of decision boundary is called a kernel. SVM has an ability to manage a complex kernel. Our data may or may not be separable by the straight line or plane. Whatever the shape of decision boundary is, SVM is expected to work well.\n",
    "\n",
    "![Support Vector Machine Kernel Trick](https://www.analyticsvidhya.com/wp-content/uploads/2015/10/SVM_10.png)\n",
    "\n",
    "\n",
    "From these reasons, SVM is expected to predict accuretly.\n",
    "\n",
    "\n",
    "Note: Pictures are originally on the website, [Understanding Support Vector Machine algorithm from examples (along with code)](https://www.analyticsvidhya.com/blog/2015/10/understaing-support-vector-machine-example-code/)"
   ]
  },
  {
   "cell_type": "markdown",
   "metadata": {},
   "source": [
    "### Implementation: Model Tuning\n",
    "Fine tune the chosen model. Use grid search (`GridSearchCV`) with at least one important parameter tuned with at least 3 different values. You will need to use the entire training set for this. In the code cell below, you will need to implement the following:\n",
    "- Import [`sklearn.grid_search.gridSearchCV`](http://scikit-learn.org/stable/modules/generated/sklearn.grid_search.GridSearchCV.html) and [`sklearn.metrics.make_scorer`](http://scikit-learn.org/stable/modules/generated/sklearn.metrics.make_scorer.html).\n",
    "- Create a dictionary of parameters you wish to tune for the chosen model.\n",
    " - Example: `parameters = {'parameter' : [list of values]}`.\n",
    "- Initialize the classifier you've chosen and store it in `clf`.\n",
    "- Create the F<sub>1</sub> scoring function using `make_scorer` and store it in `f1_scorer`.\n",
    " - Set the `pos_label` parameter to the correct value!\n",
    "- Perform grid search on the classifier `clf` using `f1_scorer` as the scoring method, and store it in `grid_obj`.\n",
    "- Fit the grid search object to the training data (`X_train`, `y_train`), and store it in `grid_obj`."
   ]
  },
  {
   "cell_type": "code",
   "execution_count": 9,
   "metadata": {
    "collapsed": false
   },
   "outputs": [
    {
     "name": "stdout",
     "output_type": "stream",
     "text": [
      "The best estimator\n",
      "SVC(C=100, cache_size=200, class_weight=None, coef0=0.0,\n",
      "  decision_function_shape='ovo', degree=3, gamma=0.0001, kernel='rbf',\n",
      "  max_iter=-1, probability=False, random_state=0, shrinking=True, tol=0.01,\n",
      "  verbose=False) \n",
      "\n",
      "Made predictions in 0.0043 seconds.\n",
      "Tuned model has a training F1 score of 0.8323.\n",
      "Made predictions in 0.0015 seconds.\n",
      "Tuned model has a testing F1 score of 0.7945.\n"
     ]
    }
   ],
   "source": [
    "# TODO: Import 'GridSearchCV' and 'make_scorer'\n",
    "from sklearn.grid_search import GridSearchCV\n",
    "from sklearn.metrics import make_scorer\n",
    "\n",
    "# TODO: Create the parameters list you wish to tune\n",
    "parameters = [\n",
    "    {'C': [0.001, 0.01, 0.1, 1, 10, 100, 1000],\n",
    "     'gamma': [1e-1, 1e-2, 1e-3, 1e-4, 1e-5, 1e-6],\n",
    "     'kernel': ['rbf', 'sigmoid', 'poly'],\n",
    "     'decision_function_shape': ['ovo', 'ovr', None],\n",
    "     'tol':[1e-1, 1e-2, 1e-3, 1e-4, 1e-5, 1e-6]\n",
    "     }]\n",
    "\n",
    "# TODO: Initialize the classifier\n",
    "clf = svm.SVC(random_state=0)\n",
    "\n",
    "# TODO: Make an f1 scoring function using 'make_scorer' \n",
    "f1_scorer = make_scorer(f1_score, pos_label='yes')\n",
    "\n",
    "# TODO: Perform grid search on the classifier using the f1_scorer as the scoring method\n",
    "grid_obj = GridSearchCV(estimator=clf, param_grid=parameters, scoring=f1_scorer)\n",
    "\n",
    "# TODO: Fit the grid search object to the training data and find the optimal parameters\n",
    "grid_obj = grid_obj.fit(X_train, y_train)\n",
    "\n",
    "# Get the estimator\n",
    "clf = grid_obj.best_estimator_\n",
    "print 'The best estimator\\n', clf, '\\n'\n",
    "\n",
    "# Report the final F1 score for training and testing after parameter tuning\n",
    "print \"Tuned model has a training F1 score of {:.4f}.\".format(predict_labels(clf, X_train, y_train))\n",
    "print \"Tuned model has a testing F1 score of {:.4f}.\".format(predict_labels(clf, X_test, y_test))"
   ]
  },
  {
   "cell_type": "markdown",
   "metadata": {},
   "source": [
    "### Question 5 - Final F<sub>1</sub> Score\n",
    "*What is the final model's F<sub>1</sub> score for training and testing? How does that score compare to the untuned model?*"
   ]
  },
  {
   "cell_type": "markdown",
   "metadata": {},
   "source": [
    "**Answer: ** <br/>\n",
    "Final F1 Score of SVM is:\n",
    "- training: 0.8323\n",
    "- testing: 0.7945\n",
    "\n",
    "The untuned model got the result of 0.8761 for training and 0.7838 for testing. Training data score worsened, while testing data score improved. The reason of a worse score in training is, perhaps, overfitting was improved by tuning since testing data score is better."
   ]
  },
  {
   "cell_type": "markdown",
   "metadata": {},
   "source": [
    "> **Note**: Once you have completed all of the code implementations and successfully answered each question above, you may finalize your work by exporting the iPython Notebook as an HTML document. You can do this by using the menu above and navigating to  \n",
    "**File -> Download as -> HTML (.html)**. Include the finished document along with this notebook as your submission."
   ]
  }
 ],
 "metadata": {
  "kernelspec": {
   "display_name": "Python 2",
   "language": "python",
   "name": "python2"
  },
  "language_info": {
   "codemirror_mode": {
    "name": "ipython",
    "version": 2
   },
   "file_extension": ".py",
   "mimetype": "text/x-python",
   "name": "python",
   "nbconvert_exporter": "python",
   "pygments_lexer": "ipython2",
   "version": "2.7.11"
  }
 },
 "nbformat": 4,
 "nbformat_minor": 0
}
